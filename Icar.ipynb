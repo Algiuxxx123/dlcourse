{
 "cells": [
  {
   "cell_type": "code",
   "execution_count": 1,
   "metadata": {},
   "outputs": [],
   "source": [
    "import numpy as np\n",
    "import matplotlib.pyplot as plt\n",
    "import pandas as pd"
   ]
  },
  {
   "cell_type": "code",
   "execution_count": 2,
   "metadata": {},
   "outputs": [],
   "source": [
    "dataset = pd.read_csv('Churn_Modelling.csv')"
   ]
  },
  {
   "cell_type": "code",
   "execution_count": 3,
   "metadata": {},
   "outputs": [
    {
     "name": "stdout",
     "output_type": "stream",
     "text": [
      "<class 'pandas.core.frame.DataFrame'>\n",
      "RangeIndex: 10000 entries, 0 to 9999\n",
      "Data columns (total 14 columns):\n",
      "RowNumber          10000 non-null int64\n",
      "CustomerId         10000 non-null int64\n",
      "Surname            10000 non-null object\n",
      "CreditScore        10000 non-null int64\n",
      "Geography          10000 non-null object\n",
      "Gender             10000 non-null object\n",
      "Age                10000 non-null int64\n",
      "Tenure             10000 non-null int64\n",
      "Balance            10000 non-null float64\n",
      "NumOfProducts      10000 non-null int64\n",
      "HasCrCard          10000 non-null int64\n",
      "IsActiveMember     10000 non-null int64\n",
      "EstimatedSalary    10000 non-null float64\n",
      "Exited             10000 non-null int64\n",
      "dtypes: float64(2), int64(9), object(3)\n",
      "memory usage: 1.1+ MB\n"
     ]
    }
   ],
   "source": [
    "dataset.info()"
   ]
  },
  {
   "cell_type": "code",
   "execution_count": 4,
   "metadata": {},
   "outputs": [
    {
     "data": {
      "text/html": [
       "<div>\n",
       "<style scoped>\n",
       "    .dataframe tbody tr th:only-of-type {\n",
       "        vertical-align: middle;\n",
       "    }\n",
       "\n",
       "    .dataframe tbody tr th {\n",
       "        vertical-align: top;\n",
       "    }\n",
       "\n",
       "    .dataframe thead th {\n",
       "        text-align: right;\n",
       "    }\n",
       "</style>\n",
       "<table border=\"1\" class=\"dataframe\">\n",
       "  <thead>\n",
       "    <tr style=\"text-align: right;\">\n",
       "      <th></th>\n",
       "      <th>RowNumber</th>\n",
       "      <th>CustomerId</th>\n",
       "      <th>Surname</th>\n",
       "      <th>CreditScore</th>\n",
       "      <th>Geography</th>\n",
       "      <th>Gender</th>\n",
       "      <th>Age</th>\n",
       "      <th>Tenure</th>\n",
       "      <th>Balance</th>\n",
       "      <th>NumOfProducts</th>\n",
       "      <th>HasCrCard</th>\n",
       "      <th>IsActiveMember</th>\n",
       "      <th>EstimatedSalary</th>\n",
       "      <th>Exited</th>\n",
       "    </tr>\n",
       "  </thead>\n",
       "  <tbody>\n",
       "    <tr>\n",
       "      <th>0</th>\n",
       "      <td>1</td>\n",
       "      <td>15634602</td>\n",
       "      <td>Hargrave</td>\n",
       "      <td>619</td>\n",
       "      <td>France</td>\n",
       "      <td>Female</td>\n",
       "      <td>42</td>\n",
       "      <td>2</td>\n",
       "      <td>0.00</td>\n",
       "      <td>1</td>\n",
       "      <td>1</td>\n",
       "      <td>1</td>\n",
       "      <td>101348.88</td>\n",
       "      <td>1</td>\n",
       "    </tr>\n",
       "    <tr>\n",
       "      <th>1</th>\n",
       "      <td>2</td>\n",
       "      <td>15647311</td>\n",
       "      <td>Hill</td>\n",
       "      <td>608</td>\n",
       "      <td>Spain</td>\n",
       "      <td>Female</td>\n",
       "      <td>41</td>\n",
       "      <td>1</td>\n",
       "      <td>83807.86</td>\n",
       "      <td>1</td>\n",
       "      <td>0</td>\n",
       "      <td>1</td>\n",
       "      <td>112542.58</td>\n",
       "      <td>0</td>\n",
       "    </tr>\n",
       "    <tr>\n",
       "      <th>2</th>\n",
       "      <td>3</td>\n",
       "      <td>15619304</td>\n",
       "      <td>Onio</td>\n",
       "      <td>502</td>\n",
       "      <td>France</td>\n",
       "      <td>Female</td>\n",
       "      <td>42</td>\n",
       "      <td>8</td>\n",
       "      <td>159660.80</td>\n",
       "      <td>3</td>\n",
       "      <td>1</td>\n",
       "      <td>0</td>\n",
       "      <td>113931.57</td>\n",
       "      <td>1</td>\n",
       "    </tr>\n",
       "    <tr>\n",
       "      <th>3</th>\n",
       "      <td>4</td>\n",
       "      <td>15701354</td>\n",
       "      <td>Boni</td>\n",
       "      <td>699</td>\n",
       "      <td>France</td>\n",
       "      <td>Female</td>\n",
       "      <td>39</td>\n",
       "      <td>1</td>\n",
       "      <td>0.00</td>\n",
       "      <td>2</td>\n",
       "      <td>0</td>\n",
       "      <td>0</td>\n",
       "      <td>93826.63</td>\n",
       "      <td>0</td>\n",
       "    </tr>\n",
       "    <tr>\n",
       "      <th>4</th>\n",
       "      <td>5</td>\n",
       "      <td>15737888</td>\n",
       "      <td>Mitchell</td>\n",
       "      <td>850</td>\n",
       "      <td>Spain</td>\n",
       "      <td>Female</td>\n",
       "      <td>43</td>\n",
       "      <td>2</td>\n",
       "      <td>125510.82</td>\n",
       "      <td>1</td>\n",
       "      <td>1</td>\n",
       "      <td>1</td>\n",
       "      <td>79084.10</td>\n",
       "      <td>0</td>\n",
       "    </tr>\n",
       "  </tbody>\n",
       "</table>\n",
       "</div>"
      ],
      "text/plain": [
       "   RowNumber  CustomerId   Surname  CreditScore Geography  Gender  Age  \\\n",
       "0          1    15634602  Hargrave          619    France  Female   42   \n",
       "1          2    15647311      Hill          608     Spain  Female   41   \n",
       "2          3    15619304      Onio          502    France  Female   42   \n",
       "3          4    15701354      Boni          699    France  Female   39   \n",
       "4          5    15737888  Mitchell          850     Spain  Female   43   \n",
       "\n",
       "   Tenure    Balance  NumOfProducts  HasCrCard  IsActiveMember  \\\n",
       "0       2       0.00              1          1               1   \n",
       "1       1   83807.86              1          0               1   \n",
       "2       8  159660.80              3          1               0   \n",
       "3       1       0.00              2          0               0   \n",
       "4       2  125510.82              1          1               1   \n",
       "\n",
       "   EstimatedSalary  Exited  \n",
       "0        101348.88       1  \n",
       "1        112542.58       0  \n",
       "2        113931.57       1  \n",
       "3         93826.63       0  \n",
       "4         79084.10       0  "
      ]
     },
     "execution_count": 4,
     "metadata": {},
     "output_type": "execute_result"
    }
   ],
   "source": [
    "dataset.head()"
   ]
  },
  {
   "cell_type": "code",
   "execution_count": 5,
   "metadata": {},
   "outputs": [],
   "source": [
    "x = dataset.iloc[:, 3:13].values"
   ]
  },
  {
   "cell_type": "code",
   "execution_count": 6,
   "metadata": {},
   "outputs": [
    {
     "data": {
      "text/plain": [
       "array([[619, 'France', 'Female', ..., 1, 1, 101348.88],\n",
       "       [608, 'Spain', 'Female', ..., 0, 1, 112542.58],\n",
       "       [502, 'France', 'Female', ..., 1, 0, 113931.57],\n",
       "       ..., \n",
       "       [709, 'France', 'Female', ..., 0, 1, 42085.58],\n",
       "       [772, 'Germany', 'Male', ..., 1, 0, 92888.52],\n",
       "       [792, 'France', 'Female', ..., 1, 0, 38190.78]], dtype=object)"
      ]
     },
     "execution_count": 6,
     "metadata": {},
     "output_type": "execute_result"
    }
   ],
   "source": [
    "x"
   ]
  },
  {
   "cell_type": "code",
   "execution_count": 7,
   "metadata": {},
   "outputs": [],
   "source": [
    "y = dataset.iloc[:, 13].values"
   ]
  },
  {
   "cell_type": "code",
   "execution_count": 8,
   "metadata": {},
   "outputs": [
    {
     "data": {
      "text/plain": [
       "array([1, 0, 1, ..., 1, 1, 0])"
      ]
     },
     "execution_count": 8,
     "metadata": {},
     "output_type": "execute_result"
    }
   ],
   "source": [
    "y"
   ]
  },
  {
   "cell_type": "code",
   "execution_count": 9,
   "metadata": {},
   "outputs": [],
   "source": [
    "from sklearn.preprocessing import LabelEncoder,OneHotEncoder"
   ]
  },
  {
   "cell_type": "code",
   "execution_count": 10,
   "metadata": {},
   "outputs": [],
   "source": [
    "labelencoder_x_1 = LabelEncoder()"
   ]
  },
  {
   "cell_type": "code",
   "execution_count": 11,
   "metadata": {},
   "outputs": [],
   "source": [
    "x[:, 1] = labelencoder_x_1.fit_transform(x[:, 1])"
   ]
  },
  {
   "cell_type": "code",
   "execution_count": 12,
   "metadata": {},
   "outputs": [],
   "source": [
    "labelencoder_x_2 = LabelEncoder()"
   ]
  },
  {
   "cell_type": "code",
   "execution_count": 13,
   "metadata": {},
   "outputs": [],
   "source": [
    "x[:, 2] = labelencoder_x_2.fit_transform(x[:, 2])"
   ]
  },
  {
   "cell_type": "code",
   "execution_count": 14,
   "metadata": {},
   "outputs": [
    {
     "data": {
      "text/plain": [
       "array([[619, 0, 0, ..., 1, 1, 101348.88],\n",
       "       [608, 2, 0, ..., 0, 1, 112542.58],\n",
       "       [502, 0, 0, ..., 1, 0, 113931.57],\n",
       "       ..., \n",
       "       [709, 0, 0, ..., 0, 1, 42085.58],\n",
       "       [772, 1, 1, ..., 1, 0, 92888.52],\n",
       "       [792, 0, 0, ..., 1, 0, 38190.78]], dtype=object)"
      ]
     },
     "execution_count": 14,
     "metadata": {},
     "output_type": "execute_result"
    }
   ],
   "source": [
    "x"
   ]
  },
  {
   "cell_type": "code",
   "execution_count": 15,
   "metadata": {},
   "outputs": [],
   "source": [
    "onehotencoder = OneHotEncoder(categorical_features = [1])"
   ]
  },
  {
   "cell_type": "code",
   "execution_count": 16,
   "metadata": {},
   "outputs": [],
   "source": [
    "x = onehotencoder.fit_transform(x).toarray()"
   ]
  },
  {
   "cell_type": "code",
   "execution_count": 17,
   "metadata": {},
   "outputs": [],
   "source": [
    "x = x[:, 1:] "
   ]
  },
  {
   "cell_type": "code",
   "execution_count": 18,
   "metadata": {},
   "outputs": [],
   "source": [
    "from sklearn.model_selection import train_test_split"
   ]
  },
  {
   "cell_type": "code",
   "execution_count": 19,
   "metadata": {},
   "outputs": [],
   "source": [
    "x_train, x_test, y_train, y_test = train_test_split(x, y,test_size = 0.2, random_state = 0)"
   ]
  },
  {
   "cell_type": "code",
   "execution_count": 20,
   "metadata": {},
   "outputs": [],
   "source": [
    "from sklearn.preprocessing import StandardScaler"
   ]
  },
  {
   "cell_type": "code",
   "execution_count": 21,
   "metadata": {},
   "outputs": [],
   "source": [
    "sc = StandardScaler()"
   ]
  },
  {
   "cell_type": "code",
   "execution_count": 22,
   "metadata": {},
   "outputs": [],
   "source": [
    "x_train = sc.fit_transform(x_train)"
   ]
  },
  {
   "cell_type": "code",
   "execution_count": 23,
   "metadata": {},
   "outputs": [],
   "source": [
    "x_test = sc.transform(x_test)"
   ]
  },
  {
   "cell_type": "code",
   "execution_count": 24,
   "metadata": {},
   "outputs": [
    {
     "name": "stderr",
     "output_type": "stream",
     "text": [
      "Using TensorFlow backend.\n"
     ]
    }
   ],
   "source": [
    "import keras"
   ]
  },
  {
   "cell_type": "code",
   "execution_count": 25,
   "metadata": {},
   "outputs": [],
   "source": [
    "from keras.models import Sequential"
   ]
  },
  {
   "cell_type": "code",
   "execution_count": 26,
   "metadata": {},
   "outputs": [],
   "source": [
    "from keras.layers import Dense"
   ]
  },
  {
   "cell_type": "code",
   "execution_count": 27,
   "metadata": {},
   "outputs": [],
   "source": [
    "#classifier = Sequential()"
   ]
  },
  {
   "cell_type": "code",
   "execution_count": 28,
   "metadata": {},
   "outputs": [],
   "source": [
    "#classifier.add(Dense(units = 6, kernel_initializer ='uniform', activation = 'relu', input_dim = 11))"
   ]
  },
  {
   "cell_type": "code",
   "execution_count": 29,
   "metadata": {},
   "outputs": [],
   "source": [
    "#classifier.add(Dense(units = 6, kernel_initializer ='uniform', activation = 'relu'))"
   ]
  },
  {
   "cell_type": "code",
   "execution_count": 30,
   "metadata": {},
   "outputs": [],
   "source": [
    "#classifier.add(Dense(units = 1, kernel_initializer ='uniform', activation = 'sigmoid'))"
   ]
  },
  {
   "cell_type": "code",
   "execution_count": 31,
   "metadata": {},
   "outputs": [],
   "source": [
    "#classifier.compile(optimizer = 'adam', loss ='binary_crossentropy', metrics = ['accuracy'])"
   ]
  },
  {
   "cell_type": "code",
   "execution_count": 32,
   "metadata": {},
   "outputs": [],
   "source": [
    "#classifier.fit(x_train, y_train, batch_size = 10, epochs =100)"
   ]
  },
  {
   "cell_type": "code",
   "execution_count": 33,
   "metadata": {},
   "outputs": [],
   "source": [
    "#y_pred = classifier.predict(x_test)"
   ]
  },
  {
   "cell_type": "code",
   "execution_count": 34,
   "metadata": {},
   "outputs": [],
   "source": [
    "#y_pred = (y_pred > 0.5)"
   ]
  },
  {
   "cell_type": "code",
   "execution_count": 35,
   "metadata": {},
   "outputs": [],
   "source": [
    "#from sklearn.metrics import confusion_matrix"
   ]
  },
  {
   "cell_type": "code",
   "execution_count": 36,
   "metadata": {},
   "outputs": [],
   "source": [
    "#cm = confusion_matrix(y_test, y_pred)"
   ]
  },
  {
   "cell_type": "code",
   "execution_count": 37,
   "metadata": {},
   "outputs": [],
   "source": [
    "#cm"
   ]
  },
  {
   "cell_type": "code",
   "execution_count": 38,
   "metadata": {},
   "outputs": [],
   "source": [
    "#(1521+205)/2000"
   ]
  },
  {
   "cell_type": "code",
   "execution_count": 39,
   "metadata": {},
   "outputs": [],
   "source": [
    "#new_prediction =classifier.predict(sc.transform(np.array([[0.0, 0, 600, 1,40, 3, 60000, 2, 1, 1, 50000]])))"
   ]
  },
  {
   "cell_type": "code",
   "execution_count": 40,
   "metadata": {},
   "outputs": [],
   "source": [
    "#new_prediction = (new_prediction > 0.5)"
   ]
  },
  {
   "cell_type": "code",
   "execution_count": 41,
   "metadata": {},
   "outputs": [],
   "source": [
    "#new_prediction"
   ]
  },
  {
   "cell_type": "code",
   "execution_count": 42,
   "metadata": {},
   "outputs": [],
   "source": [
    "#from keras.wrappers.scikit_learn import KerasClassifier\n",
    "#from sklearn.model_selection import cross_val_score\n",
    "#from keras.models import Sequential\n",
    "#from keras.layers import Dense"
   ]
  },
  {
   "cell_type": "code",
   "execution_count": 43,
   "metadata": {},
   "outputs": [],
   "source": [
    "#def build_classifier():\n",
    " #classifier = Sequential()\n",
    " #classifier.add(Dense(units = 6, kernel_initializer = 'uniform', activation = 'relu', input_dim = 11))\n",
    " #classifier.add(Dense(units = 6, kernel_initializer = 'uniform', activation = 'relu'))\n",
    " #classifier.add(Dense(units = 1, kernel_initializer = 'uniform', activation = 'sigmoid'))\n",
    " #classifier.compile(optimizer = 'adam', loss = 'binary_crossentropy', metrics = ['accuracy'])\n",
    " #return classifier"
   ]
  },
  {
   "cell_type": "code",
   "execution_count": 44,
   "metadata": {},
   "outputs": [],
   "source": [
    "#classifier = KerasClassifier(build_fn = build_classifier,batch_size = 10, epochs = 90)"
   ]
  },
  {
   "cell_type": "code",
   "execution_count": 45,
   "metadata": {},
   "outputs": [],
   "source": [
    "#accuracies = cross_val_score(estimator = classifier, X = x_train, y = y_train, cv = 10, n_jobs = 1)"
   ]
  },
  {
   "cell_type": "code",
   "execution_count": 46,
   "metadata": {},
   "outputs": [],
   "source": [
    "#mean = accuracies.mean()"
   ]
  },
  {
   "cell_type": "code",
   "execution_count": 47,
   "metadata": {},
   "outputs": [],
   "source": [
    "#variance = accuracies.std()"
   ]
  },
  {
   "cell_type": "code",
   "execution_count": 59,
   "metadata": {},
   "outputs": [],
   "source": [
    "#If we reach overfiting by using dropout we can avoid it"
   ]
  },
  {
   "cell_type": "code",
   "execution_count": 48,
   "metadata": {},
   "outputs": [],
   "source": [
    "#from keras.layers import Dropout"
   ]
  },
  {
   "cell_type": "code",
   "execution_count": 49,
   "metadata": {},
   "outputs": [],
   "source": [
    "#classifier = Sequential()"
   ]
  },
  {
   "cell_type": "code",
   "execution_count": 52,
   "metadata": {},
   "outputs": [],
   "source": [
    "#classifier.add(Dense(units = 6, kernel_initializer ='uniform', activation = 'relu', input_dim = 11))\n"
   ]
  },
  {
   "cell_type": "code",
   "execution_count": 53,
   "metadata": {},
   "outputs": [
    {
     "name": "stderr",
     "output_type": "stream",
     "text": [
      "/opt/conda/lib/python3.6/site-packages/ipykernel_launcher.py:1: UserWarning: Update your `Dropout` call to the Keras 2 API: `Dropout(rate=0.1)`\n",
      "  \"\"\"Entry point for launching an IPython kernel.\n"
     ]
    }
   ],
   "source": [
    "#classifier.add(Dropout(p = 0.1))"
   ]
  },
  {
   "cell_type": "code",
   "execution_count": 54,
   "metadata": {},
   "outputs": [],
   "source": [
    "#classifier.add(Dense(units = 6, kernel_initializer ='uniform', activation = 'relu'))"
   ]
  },
  {
   "cell_type": "code",
   "execution_count": 55,
   "metadata": {},
   "outputs": [
    {
     "name": "stderr",
     "output_type": "stream",
     "text": [
      "/opt/conda/lib/python3.6/site-packages/ipykernel_launcher.py:1: UserWarning: Update your `Dropout` call to the Keras 2 API: `Dropout(rate=0.1)`\n",
      "  \"\"\"Entry point for launching an IPython kernel.\n"
     ]
    }
   ],
   "source": [
    "#classifier.add(Dropout(p = 0.1))"
   ]
  },
  {
   "cell_type": "code",
   "execution_count": 56,
   "metadata": {},
   "outputs": [],
   "source": [
    "#classifier.add(Dense(units = 1, kernel_initializer ='uniform', activation = 'sigmoid'))"
   ]
  },
  {
   "cell_type": "code",
   "execution_count": 58,
   "metadata": {},
   "outputs": [],
   "source": [
    "#classifier.compile(optimizer = 'adam', loss ='binary_crossentropy', metrics = ['accuracy'])"
   ]
  },
  {
   "cell_type": "code",
   "execution_count": 60,
   "metadata": {},
   "outputs": [],
   "source": [
    "from keras.wrappers.scikit_learn import KerasClassifier\n",
    "from sklearn.model_selection import GridSearchCV\n",
    "from keras.models import Sequential\n",
    "from keras.layers import Dense\n"
   ]
  },
  {
   "cell_type": "code",
   "execution_count": 61,
   "metadata": {},
   "outputs": [],
   "source": [
    "def build_classifier(optimizer):\n",
    " classifier = Sequential()\n",
    " classifier.add(Dense(units = 6, kernel_initializer = 'uniform', activation = 'relu', input_dim = 11))\n",
    " classifier.add(Dense(units = 6, kernel_initializer = 'uniform', activation = 'relu'))\n",
    " classifier.add(Dense(units = 1, kernel_initializer = 'uniform', activation = 'sigmoid'))\n",
    " classifier.compile(optimizer = optimizer, loss = 'binary_crossentropy', metrics = ['accuracy'])\n",
    " return classifier"
   ]
  },
  {
   "cell_type": "code",
   "execution_count": 62,
   "metadata": {},
   "outputs": [],
   "source": [
    "classifier = KerasClassifier(build_fn = build_classifier)"
   ]
  },
  {
   "cell_type": "code",
   "execution_count": 63,
   "metadata": {},
   "outputs": [],
   "source": [
    "parameters = {'batch_size': [25, 32],\n",
    " 'epochs': [100, 500],\n",
    " 'optimizer': ['adam', 'rmsprop']}"
   ]
  },
  {
   "cell_type": "code",
   "execution_count": 64,
   "metadata": {},
   "outputs": [],
   "source": [
    "grid_search = GridSearchCV(estimator = classifier,\n",
    " param_grid = parameters,\n",
    "scoring = 'accuracy',\n",
    "cv = 10)"
   ]
  },
  {
   "cell_type": "code",
   "execution_count": 65,
   "metadata": {},
   "outputs": [
    {
     "name": "stdout",
     "output_type": "stream",
     "text": [
      "Epoch 1/100\n",
      "7200/7200 [==============================] - 1s 134us/step - loss: 0.5609 - acc: 0.7954\n",
      "Epoch 2/100\n",
      "7200/7200 [==============================] - 1s 78us/step - loss: 0.4323 - acc: 0.7971\n",
      "Epoch 3/100\n",
      "7200/7200 [==============================] - 1s 89us/step - loss: 0.4268 - acc: 0.7971\n",
      "Epoch 4/100\n",
      "7200/7200 [==============================] - 1s 84us/step - loss: 0.4235 - acc: 0.7971\n",
      "Epoch 5/100\n",
      "7200/7200 [==============================] - 1s 87us/step - loss: 0.4211 - acc: 0.7971\n",
      "Epoch 6/100\n",
      "7200/7200 [==============================] - 1s 93us/step - loss: 0.4190 - acc: 0.7999\n",
      "Epoch 7/100\n",
      "7200/7200 [==============================] - 1s 103us/step - loss: 0.4173 - acc: 0.8193\n",
      "Epoch 8/100\n",
      "7200/7200 [==============================] - 1s 104us/step - loss: 0.4164 - acc: 0.8257\n",
      "Epoch 9/100\n",
      "7200/7200 [==============================] - 1s 103us/step - loss: 0.4152 - acc: 0.8272\n",
      "Epoch 10/100\n",
      "7200/7200 [==============================] - 1s 118us/step - loss: 0.4142 - acc: 0.8279\n",
      "Epoch 11/100\n",
      "7200/7200 [==============================] - 1s 110us/step - loss: 0.4137 - acc: 0.8300\n",
      "Epoch 12/100\n",
      "7200/7200 [==============================] - 1s 112us/step - loss: 0.4129 - acc: 0.8324\n",
      "Epoch 13/100\n",
      "7200/7200 [==============================] - 1s 115us/step - loss: 0.4120 - acc: 0.8321\n",
      "Epoch 14/100\n",
      "7200/7200 [==============================] - 1s 127us/step - loss: 0.4111 - acc: 0.8311\n",
      "Epoch 15/100\n",
      "7200/7200 [==============================] - 1s 120us/step - loss: 0.4109 - acc: 0.8328\n",
      "Epoch 16/100\n",
      "7200/7200 [==============================] - 1s 124us/step - loss: 0.4106 - acc: 0.8326\n",
      "Epoch 17/100\n",
      "7200/7200 [==============================] - 1s 125us/step - loss: 0.4100 - acc: 0.8350\n",
      "Epoch 18/100\n",
      "7200/7200 [==============================] - 1s 136us/step - loss: 0.4095 - acc: 0.8340\n",
      "Epoch 19/100\n",
      "7200/7200 [==============================] - 1s 110us/step - loss: 0.4090 - acc: 0.8343\n",
      "Epoch 20/100\n",
      "7200/7200 [==============================] - 1s 116us/step - loss: 0.4087 - acc: 0.8356\n",
      "Epoch 21/100\n",
      "7200/7200 [==============================] - 1s 124us/step - loss: 0.4080 - acc: 0.8350\n",
      "Epoch 22/100\n",
      "7200/7200 [==============================] - 1s 114us/step - loss: 0.4076 - acc: 0.8350\n",
      "Epoch 23/100\n",
      "7200/7200 [==============================] - 1s 109us/step - loss: 0.4072 - acc: 0.8346\n",
      "Epoch 24/100\n",
      "7200/7200 [==============================] - 1s 120us/step - loss: 0.4069 - acc: 0.8351\n",
      "Epoch 25/100\n",
      "7200/7200 [==============================] - 1s 133us/step - loss: 0.4065 - acc: 0.8351\n",
      "Epoch 26/100\n",
      "7200/7200 [==============================] - 1s 122us/step - loss: 0.4066 - acc: 0.8346\n",
      "Epoch 27/100\n",
      "7200/7200 [==============================] - 1s 157us/step - loss: 0.4058 - acc: 0.8353\n",
      "Epoch 28/100\n",
      "7200/7200 [==============================] - 1s 123us/step - loss: 0.4058 - acc: 0.8350\n",
      "Epoch 29/100\n",
      "7200/7200 [==============================] - 1s 140us/step - loss: 0.4055 - acc: 0.8349\n",
      "Epoch 30/100\n",
      "7200/7200 [==============================] - 1s 123us/step - loss: 0.4053 - acc: 0.8349\n",
      "Epoch 31/100\n",
      "7200/7200 [==============================] - 1s 109us/step - loss: 0.4049 - acc: 0.8349\n",
      "Epoch 32/100\n",
      "7200/7200 [==============================] - 1s 119us/step - loss: 0.4048 - acc: 0.8349\n",
      "Epoch 33/100\n",
      "7200/7200 [==============================] - 1s 105us/step - loss: 0.4050 - acc: 0.8343\n",
      "Epoch 34/100\n",
      "7200/7200 [==============================] - 1s 104us/step - loss: 0.4043 - acc: 0.8350\n",
      "Epoch 35/100\n",
      "7200/7200 [==============================] - 1s 103us/step - loss: 0.4043 - acc: 0.8339\n",
      "Epoch 36/100\n",
      "7200/7200 [==============================] - 1s 123us/step - loss: 0.4042 - acc: 0.8351\n",
      "Epoch 37/100\n",
      "7200/7200 [==============================] - 1s 108us/step - loss: 0.4038 - acc: 0.8358\n",
      "Epoch 38/100\n",
      "7200/7200 [==============================] - 1s 110us/step - loss: 0.4040 - acc: 0.8343\n",
      "Epoch 39/100\n",
      "7200/7200 [==============================] - 1s 115us/step - loss: 0.4038 - acc: 0.8343\n",
      "Epoch 40/100\n",
      "7200/7200 [==============================] - 1s 105us/step - loss: 0.4037 - acc: 0.8353\n",
      "Epoch 41/100\n",
      "7200/7200 [==============================] - 1s 101us/step - loss: 0.4034 - acc: 0.8335\n",
      "Epoch 42/100\n",
      "7200/7200 [==============================] - 1s 102us/step - loss: 0.4032 - acc: 0.8343\n",
      "Epoch 43/100\n",
      "7200/7200 [==============================] - 1s 104us/step - loss: 0.4033 - acc: 0.8343\n",
      "Epoch 44/100\n",
      "7200/7200 [==============================] - 1s 105us/step - loss: 0.4031 - acc: 0.8350\n",
      "Epoch 45/100\n",
      "7200/7200 [==============================] - 1s 113us/step - loss: 0.4031 - acc: 0.8351\n",
      "Epoch 46/100\n",
      "7200/7200 [==============================] - 1s 104us/step - loss: 0.4032 - acc: 0.8349\n",
      "Epoch 47/100\n",
      "7200/7200 [==============================] - 1s 99us/step - loss: 0.4028 - acc: 0.8362\n",
      "Epoch 48/100\n",
      "7200/7200 [==============================] - 1s 107us/step - loss: 0.4028 - acc: 0.8346\n",
      "Epoch 49/100\n",
      "7200/7200 [==============================] - 1s 103us/step - loss: 0.4026 - acc: 0.8346\n",
      "Epoch 50/100\n",
      "7200/7200 [==============================] - 1s 94us/step - loss: 0.4027 - acc: 0.8357\n",
      "Epoch 51/100\n",
      "7200/7200 [==============================] - 1s 106us/step - loss: 0.4026 - acc: 0.8347\n",
      "Epoch 52/100\n",
      "7200/7200 [==============================] - 1s 115us/step - loss: 0.4025 - acc: 0.8333\n",
      "Epoch 53/100\n",
      "7200/7200 [==============================] - 1s 139us/step - loss: 0.4021 - acc: 0.8351\n",
      "Epoch 54/100\n",
      "7200/7200 [==============================] - 1s 120us/step - loss: 0.4026 - acc: 0.8351\n",
      "Epoch 55/100\n",
      "7200/7200 [==============================] - 1s 119us/step - loss: 0.4023 - acc: 0.8349\n",
      "Epoch 56/100\n",
      "7200/7200 [==============================] - 1s 117us/step - loss: 0.4023 - acc: 0.8358\n",
      "Epoch 57/100\n",
      "7200/7200 [==============================] - 1s 119us/step - loss: 0.4024 - acc: 0.8347\n",
      "Epoch 58/100\n",
      "7200/7200 [==============================] - 1s 108us/step - loss: 0.4017 - acc: 0.8344\n",
      "Epoch 59/100\n",
      "7200/7200 [==============================] - 1s 109us/step - loss: 0.4013 - acc: 0.8350\n",
      "Epoch 60/100\n",
      "7200/7200 [==============================] - 1s 115us/step - loss: 0.4007 - acc: 0.8356\n",
      "Epoch 61/100\n",
      "7200/7200 [==============================] - 1s 108us/step - loss: 0.4010 - acc: 0.8342\n",
      "Epoch 62/100\n",
      "7200/7200 [==============================] - 1s 122us/step - loss: 0.4005 - acc: 0.8347\n",
      "Epoch 63/100\n",
      "7200/7200 [==============================] - 1s 108us/step - loss: 0.4005 - acc: 0.8349\n",
      "Epoch 64/100\n",
      "7200/7200 [==============================] - 1s 113us/step - loss: 0.3998 - acc: 0.8358\n",
      "Epoch 65/100\n",
      "7200/7200 [==============================] - 1s 124us/step - loss: 0.4000 - acc: 0.8344\n",
      "Epoch 66/100\n",
      "7200/7200 [==============================] - 1s 142us/step - loss: 0.3991 - acc: 0.8353\n",
      "Epoch 67/100\n",
      "7200/7200 [==============================] - 1s 117us/step - loss: 0.3994 - acc: 0.8364\n",
      "Epoch 68/100\n",
      "7200/7200 [==============================] - 1s 101us/step - loss: 0.3983 - acc: 0.8350\n",
      "Epoch 69/100\n",
      "7200/7200 [==============================] - 1s 115us/step - loss: 0.3993 - acc: 0.8347\n",
      "Epoch 70/100\n",
      "7200/7200 [==============================] - 1s 108us/step - loss: 0.3983 - acc: 0.8357\n",
      "Epoch 71/100\n",
      "7200/7200 [==============================] - 1s 128us/step - loss: 0.3982 - acc: 0.8367\n",
      "Epoch 72/100\n",
      "7200/7200 [==============================] - 1s 120us/step - loss: 0.3980 - acc: 0.8353\n",
      "Epoch 73/100\n",
      "7200/7200 [==============================] - 1s 120us/step - loss: 0.3978 - acc: 0.8351\n",
      "Epoch 74/100\n",
      "7200/7200 [==============================] - 1s 122us/step - loss: 0.3975 - acc: 0.8346\n",
      "Epoch 75/100\n",
      "7200/7200 [==============================] - 1s 135us/step - loss: 0.3972 - acc: 0.8367\n",
      "Epoch 76/100\n",
      "7200/7200 [==============================] - 1s 123us/step - loss: 0.3975 - acc: 0.8349\n",
      "Epoch 77/100\n",
      "7200/7200 [==============================] - 1s 121us/step - loss: 0.3971 - acc: 0.8351\n",
      "Epoch 78/100\n",
      "7200/7200 [==============================] - 1s 117us/step - loss: 0.3973 - acc: 0.8360\n",
      "Epoch 79/100\n",
      "7200/7200 [==============================] - 1s 127us/step - loss: 0.3970 - acc: 0.8361\n",
      "Epoch 80/100\n",
      "7200/7200 [==============================] - 1s 125us/step - loss: 0.3968 - acc: 0.8365\n",
      "Epoch 81/100\n",
      "7200/7200 [==============================] - 1s 126us/step - loss: 0.3966 - acc: 0.8368\n",
      "Epoch 82/100\n"
     ]
    },
    {
     "name": "stdout",
     "output_type": "stream",
     "text": [
      "7200/7200 [==============================] - 1s 120us/step - loss: 0.3968 - acc: 0.8361\n",
      "Epoch 83/100\n",
      "7200/7200 [==============================] - 1s 113us/step - loss: 0.3963 - acc: 0.8358\n",
      "Epoch 84/100\n",
      "7200/7200 [==============================] - 1s 93us/step - loss: 0.3965 - acc: 0.8353\n",
      "Epoch 85/100\n",
      "7200/7200 [==============================] - 1s 111us/step - loss: 0.3963 - acc: 0.8357\n",
      "Epoch 86/100\n",
      "7200/7200 [==============================] - 1s 113us/step - loss: 0.3960 - acc: 0.8356\n",
      "Epoch 87/100\n",
      "7200/7200 [==============================] - 1s 113us/step - loss: 0.3960 - acc: 0.8357\n",
      "Epoch 88/100\n",
      "7200/7200 [==============================] - 1s 122us/step - loss: 0.3959 - acc: 0.8371\n",
      "Epoch 89/100\n",
      "7200/7200 [==============================] - 1s 130us/step - loss: 0.3956 - acc: 0.8354\n",
      "Epoch 90/100\n",
      "7200/7200 [==============================] - 1s 121us/step - loss: 0.3959 - acc: 0.8369\n",
      "Epoch 91/100\n",
      "7200/7200 [==============================] - 1s 113us/step - loss: 0.3957 - acc: 0.8357\n",
      "Epoch 92/100\n",
      "7200/7200 [==============================] - 1s 126us/step - loss: 0.3953 - acc: 0.8371\n",
      "Epoch 93/100\n",
      "7200/7200 [==============================] - 1s 115us/step - loss: 0.3957 - acc: 0.8351\n",
      "Epoch 94/100\n",
      "7200/7200 [==============================] - 1s 108us/step - loss: 0.3951 - acc: 0.8361\n",
      "Epoch 95/100\n",
      "7200/7200 [==============================] - 1s 140us/step - loss: 0.3952 - acc: 0.8371\n",
      "Epoch 96/100\n",
      "7200/7200 [==============================] - 1s 135us/step - loss: 0.3950 - acc: 0.8369\n",
      "Epoch 97/100\n",
      "7200/7200 [==============================] - 1s 115us/step - loss: 0.3946 - acc: 0.8365\n",
      "Epoch 98/100\n",
      "7200/7200 [==============================] - 1s 138us/step - loss: 0.3945 - acc: 0.8364\n",
      "Epoch 99/100\n",
      "7200/7200 [==============================] - 1s 136us/step - loss: 0.3951 - acc: 0.8360\n",
      "Epoch 100/100\n",
      "7200/7200 [==============================] - 1s 154us/step - loss: 0.3950 - acc: 0.8360\n",
      "Epoch 1/100\n",
      "7200/7200 [==============================] - 1s 154us/step - loss: 0.5669 - acc: 0.7950\n",
      "Epoch 2/100\n",
      "7200/7200 [==============================] - 1s 108us/step - loss: 0.4267 - acc: 0.7967\n",
      "Epoch 3/100\n",
      "7200/7200 [==============================] - 1s 120us/step - loss: 0.4182 - acc: 0.7967\n",
      "Epoch 4/100\n",
      "7200/7200 [==============================] - 1s 122us/step - loss: 0.4121 - acc: 0.7967\n",
      "Epoch 5/100\n",
      "7200/7200 [==============================] - 1s 113us/step - loss: 0.4060 - acc: 0.7967\n",
      "Epoch 6/100\n",
      "7200/7200 [==============================] - 1s 117us/step - loss: 0.4008 - acc: 0.8036\n",
      "Epoch 7/100\n",
      "7200/7200 [==============================] - 1s 129us/step - loss: 0.3956 - acc: 0.8274\n",
      "Epoch 8/100\n",
      "7200/7200 [==============================] - 1s 142us/step - loss: 0.3907 - acc: 0.8297\n",
      "Epoch 9/100\n",
      "7200/7200 [==============================] - 1s 137us/step - loss: 0.3864 - acc: 0.8281\n",
      "Epoch 10/100\n",
      "7200/7200 [==============================] - 1s 130us/step - loss: 0.3830 - acc: 0.8299\n",
      "Epoch 11/100\n",
      "7200/7200 [==============================] - 1s 121us/step - loss: 0.3798 - acc: 0.8344\n",
      "Epoch 12/100\n",
      "7200/7200 [==============================] - 1s 103us/step - loss: 0.3769 - acc: 0.8442\n",
      "Epoch 13/100\n",
      "7200/7200 [==============================] - 1s 135us/step - loss: 0.3738 - acc: 0.8465\n",
      "Epoch 14/100\n",
      "7200/7200 [==============================] - 1s 132us/step - loss: 0.3716 - acc: 0.8457\n",
      "Epoch 15/100\n",
      "7200/7200 [==============================] - 1s 121us/step - loss: 0.3692 - acc: 0.8486\n",
      "Epoch 16/100\n",
      "7200/7200 [==============================] - 1s 108us/step - loss: 0.3684 - acc: 0.8496\n",
      "Epoch 17/100\n",
      "7200/7200 [==============================] - 1s 106us/step - loss: 0.3661 - acc: 0.8529\n",
      "Epoch 18/100\n",
      "7200/7200 [==============================] - 1s 130us/step - loss: 0.3655 - acc: 0.8511\n",
      "Epoch 19/100\n",
      "7200/7200 [==============================] - 1s 123us/step - loss: 0.3644 - acc: 0.8486\n",
      "Epoch 20/100\n",
      "7200/7200 [==============================] - 1s 116us/step - loss: 0.3629 - acc: 0.8524\n",
      "Epoch 21/100\n",
      "7200/7200 [==============================] - 1s 103us/step - loss: 0.3624 - acc: 0.8529\n",
      "Epoch 22/100\n",
      "7200/7200 [==============================] - 1s 116us/step - loss: 0.3623 - acc: 0.8551\n",
      "Epoch 23/100\n",
      "7200/7200 [==============================] - 1s 140us/step - loss: 0.3610 - acc: 0.8528\n",
      "Epoch 24/100\n",
      "7200/7200 [==============================] - 1s 141us/step - loss: 0.3599 - acc: 0.8533\n",
      "Epoch 25/100\n",
      "7200/7200 [==============================] - 1s 135us/step - loss: 0.3592 - acc: 0.8550\n",
      "Epoch 26/100\n",
      "7200/7200 [==============================] - 1s 133us/step - loss: 0.3586 - acc: 0.8540\n",
      "Epoch 27/100\n",
      "7200/7200 [==============================] - 1s 112us/step - loss: 0.3578 - acc: 0.8543\n",
      "Epoch 28/100\n",
      "7200/7200 [==============================] - 1s 127us/step - loss: 0.3580 - acc: 0.8565\n",
      "Epoch 29/100\n",
      "7200/7200 [==============================] - 1s 119us/step - loss: 0.3572 - acc: 0.8560\n",
      "Epoch 30/100\n",
      "7200/7200 [==============================] - 1s 120us/step - loss: 0.3563 - acc: 0.8571\n",
      "Epoch 31/100\n",
      "7200/7200 [==============================] - 1s 124us/step - loss: 0.3554 - acc: 0.8578\n",
      "Epoch 32/100\n",
      "7200/7200 [==============================] - 1s 110us/step - loss: 0.3549 - acc: 0.8575\n",
      "Epoch 33/100\n",
      "7200/7200 [==============================] - 1s 129us/step - loss: 0.3550 - acc: 0.8576\n",
      "Epoch 34/100\n",
      "7200/7200 [==============================] - 1s 126us/step - loss: 0.3546 - acc: 0.8558\n",
      "Epoch 35/100\n",
      "7200/7200 [==============================] - 1s 120us/step - loss: 0.3534 - acc: 0.8593\n",
      "Epoch 36/100\n",
      "7200/7200 [==============================] - 1s 126us/step - loss: 0.3534 - acc: 0.8572\n",
      "Epoch 37/100\n",
      "7200/7200 [==============================] - 1s 126us/step - loss: 0.3526 - acc: 0.8587\n",
      "Epoch 38/100\n",
      "7200/7200 [==============================] - 1s 132us/step - loss: 0.3525 - acc: 0.8585\n",
      "Epoch 39/100\n",
      "7200/7200 [==============================] - 1s 130us/step - loss: 0.3517 - acc: 0.8574\n",
      "Epoch 40/100\n",
      "7200/7200 [==============================] - 1s 149us/step - loss: 0.3517 - acc: 0.8583\n",
      "Epoch 41/100\n",
      "7200/7200 [==============================] - 1s 125us/step - loss: 0.3519 - acc: 0.8581\n",
      "Epoch 42/100\n",
      "7200/7200 [==============================] - 1s 116us/step - loss: 0.3510 - acc: 0.8582\n",
      "Epoch 43/100\n",
      "7200/7200 [==============================] - 1s 116us/step - loss: 0.3507 - acc: 0.8590\n",
      "Epoch 44/100\n",
      "7200/7200 [==============================] - 1s 120us/step - loss: 0.3506 - acc: 0.8585\n",
      "Epoch 45/100\n",
      "7200/7200 [==============================] - 1s 116us/step - loss: 0.3495 - acc: 0.8590\n",
      "Epoch 46/100\n",
      "7200/7200 [==============================] - 1s 119us/step - loss: 0.3492 - acc: 0.8590\n",
      "Epoch 47/100\n",
      "7200/7200 [==============================] - 1s 118us/step - loss: 0.3487 - acc: 0.8604\n",
      "Epoch 48/100\n",
      "7200/7200 [==============================] - 1s 118us/step - loss: 0.3485 - acc: 0.8612\n",
      "Epoch 49/100\n",
      "7200/7200 [==============================] - 1s 120us/step - loss: 0.3484 - acc: 0.8590\n",
      "Epoch 50/100\n",
      "7200/7200 [==============================] - 1s 122us/step - loss: 0.3479 - acc: 0.8590\n",
      "Epoch 51/100\n",
      "7200/7200 [==============================] - 1s 121us/step - loss: 0.3474 - acc: 0.8611\n",
      "Epoch 52/100\n",
      "7200/7200 [==============================] - 1s 114us/step - loss: 0.3466 - acc: 0.8614\n",
      "Epoch 53/100\n",
      "7200/7200 [==============================] - 1s 144us/step - loss: 0.3473 - acc: 0.8601\n",
      "Epoch 54/100\n",
      "7200/7200 [==============================] - 1s 157us/step - loss: 0.3471 - acc: 0.8611\n",
      "Epoch 55/100\n",
      "7200/7200 [==============================] - 1s 113us/step - loss: 0.3463 - acc: 0.8608\n",
      "Epoch 56/100\n",
      "7200/7200 [==============================] - 1s 133us/step - loss: 0.3459 - acc: 0.8614\n",
      "Epoch 57/100\n",
      "7200/7200 [==============================] - 1s 113us/step - loss: 0.3457 - acc: 0.8604\n",
      "Epoch 58/100\n",
      "7200/7200 [==============================] - 1s 108us/step - loss: 0.3457 - acc: 0.8604\n",
      "Epoch 59/100\n",
      "7200/7200 [==============================] - 1s 114us/step - loss: 0.3453 - acc: 0.8607\n",
      "Epoch 60/100\n",
      "7200/7200 [==============================] - 1s 111us/step - loss: 0.3453 - acc: 0.8606\n",
      "Epoch 61/100\n",
      "7200/7200 [==============================] - 1s 105us/step - loss: 0.3456 - acc: 0.8597\n",
      "Epoch 62/100\n",
      "7200/7200 [==============================] - 1s 111us/step - loss: 0.3447 - acc: 0.8614\n",
      "Epoch 63/100\n"
     ]
    },
    {
     "name": "stdout",
     "output_type": "stream",
     "text": [
      "7200/7200 [==============================] - 1s 90us/step - loss: 0.3451 - acc: 0.8608\n",
      "Epoch 64/100\n",
      "7200/7200 [==============================] - 1s 83us/step - loss: 0.3442 - acc: 0.8608\n",
      "Epoch 65/100\n",
      "7200/7200 [==============================] - 1s 86us/step - loss: 0.3442 - acc: 0.8621\n",
      "Epoch 66/100\n",
      "7200/7200 [==============================] - 1s 81us/step - loss: 0.3443 - acc: 0.8612\n",
      "Epoch 67/100\n",
      "7200/7200 [==============================] - 1s 86us/step - loss: 0.3449 - acc: 0.8622\n",
      "Epoch 68/100\n",
      "7200/7200 [==============================] - 1s 90us/step - loss: 0.3436 - acc: 0.8617\n",
      "Epoch 69/100\n",
      "7200/7200 [==============================] - 1s 83us/step - loss: 0.3438 - acc: 0.8617\n",
      "Epoch 70/100\n",
      "7200/7200 [==============================] - 1s 100us/step - loss: 0.3441 - acc: 0.8610\n",
      "Epoch 71/100\n",
      "7200/7200 [==============================] - 1s 81us/step - loss: 0.3441 - acc: 0.8611\n",
      "Epoch 72/100\n",
      "7200/7200 [==============================] - 1s 90us/step - loss: 0.3438 - acc: 0.8615\n",
      "Epoch 73/100\n",
      "7200/7200 [==============================] - 1s 83us/step - loss: 0.3428 - acc: 0.8608\n",
      "Epoch 74/100\n",
      "7200/7200 [==============================] - 1s 87us/step - loss: 0.3424 - acc: 0.8619\n",
      "Epoch 75/100\n",
      "7200/7200 [==============================] - 1s 90us/step - loss: 0.3423 - acc: 0.8603\n",
      "Epoch 76/100\n",
      "7200/7200 [==============================] - 1s 97us/step - loss: 0.3423 - acc: 0.8621\n",
      "Epoch 77/100\n",
      "7200/7200 [==============================] - 1s 108us/step - loss: 0.3425 - acc: 0.8629\n",
      "Epoch 78/100\n",
      "7200/7200 [==============================] - 1s 109us/step - loss: 0.3430 - acc: 0.8612\n",
      "Epoch 79/100\n",
      "7200/7200 [==============================] - 1s 123us/step - loss: 0.3417 - acc: 0.8617\n",
      "Epoch 80/100\n",
      "7200/7200 [==============================] - 1s 122us/step - loss: 0.3420 - acc: 0.8590\n",
      "Epoch 81/100\n",
      "7200/7200 [==============================] - 1s 132us/step - loss: 0.3424 - acc: 0.8599\n",
      "Epoch 82/100\n",
      "7200/7200 [==============================] - 1s 145us/step - loss: 0.3415 - acc: 0.8619\n",
      "Epoch 83/100\n",
      "7200/7200 [==============================] - 1s 107us/step - loss: 0.3415 - acc: 0.8611\n",
      "Epoch 84/100\n",
      "7200/7200 [==============================] - 1s 98us/step - loss: 0.3415 - acc: 0.8618\n",
      "Epoch 85/100\n",
      "7200/7200 [==============================] - 1s 102us/step - loss: 0.3413 - acc: 0.8625\n",
      "Epoch 86/100\n",
      "7200/7200 [==============================] - 1s 124us/step - loss: 0.3409 - acc: 0.8614\n",
      "Epoch 87/100\n",
      "7200/7200 [==============================] - 1s 95us/step - loss: 0.3402 - acc: 0.8621\n",
      "Epoch 88/100\n",
      "7200/7200 [==============================] - 1s 103us/step - loss: 0.3412 - acc: 0.8608\n",
      "Epoch 89/100\n",
      "7200/7200 [==============================] - 1s 105us/step - loss: 0.3407 - acc: 0.8635\n",
      "Epoch 90/100\n",
      "7200/7200 [==============================] - 1s 98us/step - loss: 0.3408 - acc: 0.8621\n",
      "Epoch 91/100\n",
      "7200/7200 [==============================] - 1s 102us/step - loss: 0.3402 - acc: 0.8612\n",
      "Epoch 92/100\n",
      "7200/7200 [==============================] - 1s 105us/step - loss: 0.3398 - acc: 0.8615\n",
      "Epoch 93/100\n",
      "7200/7200 [==============================] - 1s 93us/step - loss: 0.3403 - acc: 0.8601\n",
      "Epoch 94/100\n",
      "7200/7200 [==============================] - 1s 104us/step - loss: 0.3407 - acc: 0.8618\n",
      "Epoch 95/100\n",
      "7200/7200 [==============================] - 1s 100us/step - loss: 0.3397 - acc: 0.8633\n",
      "Epoch 96/100\n",
      "7200/7200 [==============================] - 1s 93us/step - loss: 0.3392 - acc: 0.8625\n",
      "Epoch 97/100\n",
      "7200/7200 [==============================] - 1s 106us/step - loss: 0.3406 - acc: 0.8612\n",
      "Epoch 98/100\n",
      "7200/7200 [==============================] - 1s 111us/step - loss: 0.3401 - acc: 0.8601\n",
      "Epoch 99/100\n",
      "7200/7200 [==============================] - 1s 91us/step - loss: 0.3400 - acc: 0.8614\n",
      "Epoch 100/100\n",
      "7200/7200 [==============================] - 1s 104us/step - loss: 0.3396 - acc: 0.8625\n",
      "Epoch 1/100\n",
      "7200/7200 [==============================] - 1s 145us/step - loss: 0.5739 - acc: 0.7932\n",
      "Epoch 2/100\n",
      "7200/7200 [==============================] - 1s 110us/step - loss: 0.4332 - acc: 0.7981\n",
      "Epoch 3/100\n",
      "7200/7200 [==============================] - 1s 107us/step - loss: 0.4132 - acc: 0.8096\n",
      "Epoch 4/100\n",
      "7200/7200 [==============================] - 1s 106us/step - loss: 0.3971 - acc: 0.8156\n",
      "Epoch 5/100\n",
      "7200/7200 [==============================] - 1s 98us/step - loss: 0.3838 - acc: 0.8181\n",
      "Epoch 6/100\n",
      "7200/7200 [==============================] - 1s 112us/step - loss: 0.3729 - acc: 0.8339\n",
      "Epoch 7/100\n",
      "7200/7200 [==============================] - 1s 114us/step - loss: 0.3656 - acc: 0.8501\n",
      "Epoch 8/100\n",
      "7200/7200 [==============================] - 1s 117us/step - loss: 0.3602 - acc: 0.8536\n",
      "Epoch 9/100\n",
      "7200/7200 [==============================] - 1s 125us/step - loss: 0.3572 - acc: 0.8553\n",
      "Epoch 10/100\n",
      "7200/7200 [==============================] - 1s 106us/step - loss: 0.3546 - acc: 0.8556\n",
      "Epoch 11/100\n",
      "7200/7200 [==============================] - 1s 119us/step - loss: 0.3530 - acc: 0.8571 0s - loss: 0.31\n",
      "Epoch 12/100\n",
      "7200/7200 [==============================] - 1s 106us/step - loss: 0.3516 - acc: 0.8594\n",
      "Epoch 13/100\n",
      "7200/7200 [==============================] - 1s 109us/step - loss: 0.3505 - acc: 0.8564\n",
      "Epoch 14/100\n",
      "7200/7200 [==============================] - 1s 112us/step - loss: 0.3490 - acc: 0.8585\n",
      "Epoch 15/100\n",
      "7200/7200 [==============================] - 1s 110us/step - loss: 0.3488 - acc: 0.8579\n",
      "Epoch 16/100\n",
      "7200/7200 [==============================] - 1s 112us/step - loss: 0.3482 - acc: 0.8578\n",
      "Epoch 17/100\n",
      "7200/7200 [==============================] - 1s 104us/step - loss: 0.3470 - acc: 0.8596\n",
      "Epoch 18/100\n",
      "7200/7200 [==============================] - 1s 104us/step - loss: 0.3466 - acc: 0.8578\n",
      "Epoch 19/100\n",
      "7200/7200 [==============================] - 1s 105us/step - loss: 0.3458 - acc: 0.8583\n",
      "Epoch 20/100\n",
      "7200/7200 [==============================] - 1s 111us/step - loss: 0.3462 - acc: 0.8572\n",
      "Epoch 21/100\n",
      "7200/7200 [==============================] - 1s 141us/step - loss: 0.3450 - acc: 0.8599\n",
      "Epoch 22/100\n",
      "7200/7200 [==============================] - 1s 117us/step - loss: 0.3447 - acc: 0.8608\n",
      "Epoch 23/100\n",
      "7200/7200 [==============================] - 1s 100us/step - loss: 0.3442 - acc: 0.8585\n",
      "Epoch 24/100\n",
      "7200/7200 [==============================] - 1s 114us/step - loss: 0.3436 - acc: 0.8592\n",
      "Epoch 25/100\n",
      "7200/7200 [==============================] - 1s 107us/step - loss: 0.3442 - acc: 0.8604\n",
      "Epoch 26/100\n",
      "7200/7200 [==============================] - 1s 125us/step - loss: 0.3431 - acc: 0.8587\n",
      "Epoch 27/100\n",
      "7200/7200 [==============================] - 1s 114us/step - loss: 0.3427 - acc: 0.8589\n",
      "Epoch 28/100\n",
      "7200/7200 [==============================] - 1s 114us/step - loss: 0.3419 - acc: 0.8603\n",
      "Epoch 29/100\n",
      "7200/7200 [==============================] - 1s 117us/step - loss: 0.3421 - acc: 0.8600\n",
      "Epoch 30/100\n",
      "7200/7200 [==============================] - 1s 120us/step - loss: 0.3418 - acc: 0.8615\n",
      "Epoch 31/100\n",
      "7200/7200 [==============================] - 1s 118us/step - loss: 0.3416 - acc: 0.8607\n",
      "Epoch 32/100\n",
      "7200/7200 [==============================] - 1s 128us/step - loss: 0.3415 - acc: 0.8597\n",
      "Epoch 33/100\n",
      "7200/7200 [==============================] - 1s 138us/step - loss: 0.3412 - acc: 0.8599\n",
      "Epoch 34/100\n",
      "7200/7200 [==============================] - 1s 137us/step - loss: 0.3404 - acc: 0.8603\n",
      "Epoch 35/100\n",
      "7200/7200 [==============================] - 1s 140us/step - loss: 0.3410 - acc: 0.8607\n",
      "Epoch 36/100\n",
      "7200/7200 [==============================] - 1s 125us/step - loss: 0.3404 - acc: 0.8607\n",
      "Epoch 37/100\n",
      "7200/7200 [==============================] - 1s 119us/step - loss: 0.3399 - acc: 0.8603\n",
      "Epoch 38/100\n",
      "7200/7200 [==============================] - 1s 119us/step - loss: 0.3398 - acc: 0.8601\n",
      "Epoch 39/100\n",
      "7200/7200 [==============================] - 1s 115us/step - loss: 0.3399 - acc: 0.8600\n",
      "Epoch 40/100\n",
      "7200/7200 [==============================] - 1s 111us/step - loss: 0.3395 - acc: 0.8625\n",
      "Epoch 41/100\n",
      "7200/7200 [==============================] - 1s 102us/step - loss: 0.3392 - acc: 0.8612\n",
      "Epoch 42/100\n",
      "7200/7200 [==============================] - 1s 114us/step - loss: 0.3393 - acc: 0.8603\n",
      "Epoch 43/100\n",
      "7200/7200 [==============================] - 1s 112us/step - loss: 0.3391 - acc: 0.8615\n",
      "Epoch 44/100\n"
     ]
    },
    {
     "name": "stdout",
     "output_type": "stream",
     "text": [
      "7200/7200 [==============================] - 1s 96us/step - loss: 0.3386 - acc: 0.8614\n",
      "Epoch 45/100\n",
      "7200/7200 [==============================] - 1s 91us/step - loss: 0.3386 - acc: 0.8608\n",
      "Epoch 46/100\n",
      "7200/7200 [==============================] - 1s 98us/step - loss: 0.3386 - acc: 0.8617\n",
      "Epoch 47/100\n",
      "7200/7200 [==============================] - 1s 84us/step - loss: 0.3382 - acc: 0.8610\n",
      "Epoch 48/100\n",
      "7200/7200 [==============================] - 1s 87us/step - loss: 0.3386 - acc: 0.8610\n",
      "Epoch 49/100\n",
      "7200/7200 [==============================] - 1s 89us/step - loss: 0.3382 - acc: 0.8635\n",
      "Epoch 50/100\n",
      "7200/7200 [==============================] - 1s 94us/step - loss: 0.3376 - acc: 0.8629\n",
      "Epoch 51/100\n",
      "7200/7200 [==============================] - 1s 99us/step - loss: 0.3379 - acc: 0.8622\n",
      "Epoch 52/100\n",
      "7200/7200 [==============================] - 1s 83us/step - loss: 0.3377 - acc: 0.8621\n",
      "Epoch 53/100\n",
      "7200/7200 [==============================] - 1s 90us/step - loss: 0.3372 - acc: 0.8621\n",
      "Epoch 54/100\n",
      "7200/7200 [==============================] - 1s 84us/step - loss: 0.3380 - acc: 0.8621\n",
      "Epoch 55/100\n",
      "7200/7200 [==============================] - 1s 93us/step - loss: 0.3375 - acc: 0.8628\n",
      "Epoch 56/100\n",
      "7200/7200 [==============================] - 1s 95us/step - loss: 0.3373 - acc: 0.8625\n",
      "Epoch 57/100\n",
      "7200/7200 [==============================] - 1s 85us/step - loss: 0.3372 - acc: 0.8635\n",
      "Epoch 58/100\n",
      "7200/7200 [==============================] - 1s 95us/step - loss: 0.3373 - acc: 0.8635\n",
      "Epoch 59/100\n",
      "7200/7200 [==============================] - 1s 84us/step - loss: 0.3369 - acc: 0.8636\n",
      "Epoch 60/100\n",
      "7200/7200 [==============================] - 1s 95us/step - loss: 0.3370 - acc: 0.8640\n",
      "Epoch 61/100\n",
      "7200/7200 [==============================] - 1s 89us/step - loss: 0.3368 - acc: 0.8631\n",
      "Epoch 62/100\n",
      "7200/7200 [==============================] - 1s 85us/step - loss: 0.3368 - acc: 0.8631\n",
      "Epoch 63/100\n",
      "7200/7200 [==============================] - 1s 100us/step - loss: 0.3364 - acc: 0.8637\n",
      "Epoch 64/100\n",
      "7200/7200 [==============================] - 1s 92us/step - loss: 0.3371 - acc: 0.8615\n",
      "Epoch 65/100\n",
      "7200/7200 [==============================] - 1s 91us/step - loss: 0.3365 - acc: 0.8632\n",
      "Epoch 66/100\n",
      "7200/7200 [==============================] - 1s 83us/step - loss: 0.3370 - acc: 0.8639\n",
      "Epoch 67/100\n",
      "7200/7200 [==============================] - 1s 93us/step - loss: 0.3367 - acc: 0.8615\n",
      "Epoch 68/100\n",
      "7200/7200 [==============================] - 1s 116us/step - loss: 0.3368 - acc: 0.8631\n",
      "Epoch 69/100\n",
      "7200/7200 [==============================] - 1s 95us/step - loss: 0.3363 - acc: 0.8625\n",
      "Epoch 70/100\n",
      "7200/7200 [==============================] - 1s 97us/step - loss: 0.3361 - acc: 0.8625\n",
      "Epoch 71/100\n",
      "7200/7200 [==============================] - 1s 167us/step - loss: 0.3361 - acc: 0.8626\n",
      "Epoch 72/100\n",
      "7200/7200 [==============================] - 1s 142us/step - loss: 0.3372 - acc: 0.8622\n",
      "Epoch 73/100\n",
      "7200/7200 [==============================] - 1s 128us/step - loss: 0.3368 - acc: 0.8626\n",
      "Epoch 74/100\n",
      "7200/7200 [==============================] - 1s 112us/step - loss: 0.3363 - acc: 0.8643\n",
      "Epoch 75/100\n",
      "  25/7200 [..............................] - ETA: 2s - loss: 0.3850 - acc: 0.8400"
     ]
    },
    {
     "ename": "KeyboardInterrupt",
     "evalue": "",
     "output_type": "error",
     "traceback": [
      "\u001b[0;31m---------------------------------------------------------------------------\u001b[0m",
      "\u001b[0;31mKeyboardInterrupt\u001b[0m                         Traceback (most recent call last)",
      "\u001b[0;32m<ipython-input-65-b75b5e23ad78>\u001b[0m in \u001b[0;36m<module>\u001b[0;34m()\u001b[0m\n\u001b[0;32m----> 1\u001b[0;31m \u001b[0mgrid_search\u001b[0m \u001b[0;34m=\u001b[0m \u001b[0mgrid_search\u001b[0m\u001b[0;34m.\u001b[0m\u001b[0mfit\u001b[0m\u001b[0;34m(\u001b[0m\u001b[0mx_train\u001b[0m\u001b[0;34m,\u001b[0m \u001b[0my_train\u001b[0m\u001b[0;34m)\u001b[0m\u001b[0;34m\u001b[0m\u001b[0m\n\u001b[0m",
      "\u001b[0;32m/opt/conda/lib/python3.6/site-packages/sklearn/model_selection/_search.py\u001b[0m in \u001b[0;36mfit\u001b[0;34m(self, X, y, groups, **fit_params)\u001b[0m\n\u001b[1;32m    638\u001b[0m                                   error_score=self.error_score)\n\u001b[1;32m    639\u001b[0m           for parameters, (train, test) in product(candidate_params,\n\u001b[0;32m--> 640\u001b[0;31m                                                    cv.split(X, y, groups)))\n\u001b[0m\u001b[1;32m    641\u001b[0m \u001b[0;34m\u001b[0m\u001b[0m\n\u001b[1;32m    642\u001b[0m         \u001b[0;31m# if one choose to see train score, \"out\" will contain train score info\u001b[0m\u001b[0;34m\u001b[0m\u001b[0;34m\u001b[0m\u001b[0m\n",
      "\u001b[0;32m/opt/conda/lib/python3.6/site-packages/sklearn/externals/joblib/parallel.py\u001b[0m in \u001b[0;36m__call__\u001b[0;34m(self, iterable)\u001b[0m\n\u001b[1;32m    777\u001b[0m             \u001b[0;31m# was dispatched. In particular this covers the edge\u001b[0m\u001b[0;34m\u001b[0m\u001b[0;34m\u001b[0m\u001b[0m\n\u001b[1;32m    778\u001b[0m             \u001b[0;31m# case of Parallel used with an exhausted iterator.\u001b[0m\u001b[0;34m\u001b[0m\u001b[0;34m\u001b[0m\u001b[0m\n\u001b[0;32m--> 779\u001b[0;31m             \u001b[0;32mwhile\u001b[0m \u001b[0mself\u001b[0m\u001b[0;34m.\u001b[0m\u001b[0mdispatch_one_batch\u001b[0m\u001b[0;34m(\u001b[0m\u001b[0miterator\u001b[0m\u001b[0;34m)\u001b[0m\u001b[0;34m:\u001b[0m\u001b[0;34m\u001b[0m\u001b[0m\n\u001b[0m\u001b[1;32m    780\u001b[0m                 \u001b[0mself\u001b[0m\u001b[0;34m.\u001b[0m\u001b[0m_iterating\u001b[0m \u001b[0;34m=\u001b[0m \u001b[0;32mTrue\u001b[0m\u001b[0;34m\u001b[0m\u001b[0m\n\u001b[1;32m    781\u001b[0m             \u001b[0;32melse\u001b[0m\u001b[0;34m:\u001b[0m\u001b[0;34m\u001b[0m\u001b[0m\n",
      "\u001b[0;32m/opt/conda/lib/python3.6/site-packages/sklearn/externals/joblib/parallel.py\u001b[0m in \u001b[0;36mdispatch_one_batch\u001b[0;34m(self, iterator)\u001b[0m\n\u001b[1;32m    623\u001b[0m                 \u001b[0;32mreturn\u001b[0m \u001b[0;32mFalse\u001b[0m\u001b[0;34m\u001b[0m\u001b[0m\n\u001b[1;32m    624\u001b[0m             \u001b[0;32melse\u001b[0m\u001b[0;34m:\u001b[0m\u001b[0;34m\u001b[0m\u001b[0m\n\u001b[0;32m--> 625\u001b[0;31m                 \u001b[0mself\u001b[0m\u001b[0;34m.\u001b[0m\u001b[0m_dispatch\u001b[0m\u001b[0;34m(\u001b[0m\u001b[0mtasks\u001b[0m\u001b[0;34m)\u001b[0m\u001b[0;34m\u001b[0m\u001b[0m\n\u001b[0m\u001b[1;32m    626\u001b[0m                 \u001b[0;32mreturn\u001b[0m \u001b[0;32mTrue\u001b[0m\u001b[0;34m\u001b[0m\u001b[0m\n\u001b[1;32m    627\u001b[0m \u001b[0;34m\u001b[0m\u001b[0m\n",
      "\u001b[0;32m/opt/conda/lib/python3.6/site-packages/sklearn/externals/joblib/parallel.py\u001b[0m in \u001b[0;36m_dispatch\u001b[0;34m(self, batch)\u001b[0m\n\u001b[1;32m    586\u001b[0m         \u001b[0mdispatch_timestamp\u001b[0m \u001b[0;34m=\u001b[0m \u001b[0mtime\u001b[0m\u001b[0;34m.\u001b[0m\u001b[0mtime\u001b[0m\u001b[0;34m(\u001b[0m\u001b[0;34m)\u001b[0m\u001b[0;34m\u001b[0m\u001b[0m\n\u001b[1;32m    587\u001b[0m         \u001b[0mcb\u001b[0m \u001b[0;34m=\u001b[0m \u001b[0mBatchCompletionCallBack\u001b[0m\u001b[0;34m(\u001b[0m\u001b[0mdispatch_timestamp\u001b[0m\u001b[0;34m,\u001b[0m \u001b[0mlen\u001b[0m\u001b[0;34m(\u001b[0m\u001b[0mbatch\u001b[0m\u001b[0;34m)\u001b[0m\u001b[0;34m,\u001b[0m \u001b[0mself\u001b[0m\u001b[0;34m)\u001b[0m\u001b[0;34m\u001b[0m\u001b[0m\n\u001b[0;32m--> 588\u001b[0;31m         \u001b[0mjob\u001b[0m \u001b[0;34m=\u001b[0m \u001b[0mself\u001b[0m\u001b[0;34m.\u001b[0m\u001b[0m_backend\u001b[0m\u001b[0;34m.\u001b[0m\u001b[0mapply_async\u001b[0m\u001b[0;34m(\u001b[0m\u001b[0mbatch\u001b[0m\u001b[0;34m,\u001b[0m \u001b[0mcallback\u001b[0m\u001b[0;34m=\u001b[0m\u001b[0mcb\u001b[0m\u001b[0;34m)\u001b[0m\u001b[0;34m\u001b[0m\u001b[0m\n\u001b[0m\u001b[1;32m    589\u001b[0m         \u001b[0mself\u001b[0m\u001b[0;34m.\u001b[0m\u001b[0m_jobs\u001b[0m\u001b[0;34m.\u001b[0m\u001b[0mappend\u001b[0m\u001b[0;34m(\u001b[0m\u001b[0mjob\u001b[0m\u001b[0;34m)\u001b[0m\u001b[0;34m\u001b[0m\u001b[0m\n\u001b[1;32m    590\u001b[0m \u001b[0;34m\u001b[0m\u001b[0m\n",
      "\u001b[0;32m/opt/conda/lib/python3.6/site-packages/sklearn/externals/joblib/_parallel_backends.py\u001b[0m in \u001b[0;36mapply_async\u001b[0;34m(self, func, callback)\u001b[0m\n\u001b[1;32m    109\u001b[0m     \u001b[0;32mdef\u001b[0m \u001b[0mapply_async\u001b[0m\u001b[0;34m(\u001b[0m\u001b[0mself\u001b[0m\u001b[0;34m,\u001b[0m \u001b[0mfunc\u001b[0m\u001b[0;34m,\u001b[0m \u001b[0mcallback\u001b[0m\u001b[0;34m=\u001b[0m\u001b[0;32mNone\u001b[0m\u001b[0;34m)\u001b[0m\u001b[0;34m:\u001b[0m\u001b[0;34m\u001b[0m\u001b[0m\n\u001b[1;32m    110\u001b[0m         \u001b[0;34m\"\"\"Schedule a func to be run\"\"\"\u001b[0m\u001b[0;34m\u001b[0m\u001b[0m\n\u001b[0;32m--> 111\u001b[0;31m         \u001b[0mresult\u001b[0m \u001b[0;34m=\u001b[0m \u001b[0mImmediateResult\u001b[0m\u001b[0;34m(\u001b[0m\u001b[0mfunc\u001b[0m\u001b[0;34m)\u001b[0m\u001b[0;34m\u001b[0m\u001b[0m\n\u001b[0m\u001b[1;32m    112\u001b[0m         \u001b[0;32mif\u001b[0m \u001b[0mcallback\u001b[0m\u001b[0;34m:\u001b[0m\u001b[0;34m\u001b[0m\u001b[0m\n\u001b[1;32m    113\u001b[0m             \u001b[0mcallback\u001b[0m\u001b[0;34m(\u001b[0m\u001b[0mresult\u001b[0m\u001b[0;34m)\u001b[0m\u001b[0;34m\u001b[0m\u001b[0m\n",
      "\u001b[0;32m/opt/conda/lib/python3.6/site-packages/sklearn/externals/joblib/_parallel_backends.py\u001b[0m in \u001b[0;36m__init__\u001b[0;34m(self, batch)\u001b[0m\n\u001b[1;32m    330\u001b[0m         \u001b[0;31m# Don't delay the application, to avoid keeping the input\u001b[0m\u001b[0;34m\u001b[0m\u001b[0;34m\u001b[0m\u001b[0m\n\u001b[1;32m    331\u001b[0m         \u001b[0;31m# arguments in memory\u001b[0m\u001b[0;34m\u001b[0m\u001b[0;34m\u001b[0m\u001b[0m\n\u001b[0;32m--> 332\u001b[0;31m         \u001b[0mself\u001b[0m\u001b[0;34m.\u001b[0m\u001b[0mresults\u001b[0m \u001b[0;34m=\u001b[0m \u001b[0mbatch\u001b[0m\u001b[0;34m(\u001b[0m\u001b[0;34m)\u001b[0m\u001b[0;34m\u001b[0m\u001b[0m\n\u001b[0m\u001b[1;32m    333\u001b[0m \u001b[0;34m\u001b[0m\u001b[0m\n\u001b[1;32m    334\u001b[0m     \u001b[0;32mdef\u001b[0m \u001b[0mget\u001b[0m\u001b[0;34m(\u001b[0m\u001b[0mself\u001b[0m\u001b[0;34m)\u001b[0m\u001b[0;34m:\u001b[0m\u001b[0;34m\u001b[0m\u001b[0m\n",
      "\u001b[0;32m/opt/conda/lib/python3.6/site-packages/sklearn/externals/joblib/parallel.py\u001b[0m in \u001b[0;36m__call__\u001b[0;34m(self)\u001b[0m\n\u001b[1;32m    129\u001b[0m \u001b[0;34m\u001b[0m\u001b[0m\n\u001b[1;32m    130\u001b[0m     \u001b[0;32mdef\u001b[0m \u001b[0m__call__\u001b[0m\u001b[0;34m(\u001b[0m\u001b[0mself\u001b[0m\u001b[0;34m)\u001b[0m\u001b[0;34m:\u001b[0m\u001b[0;34m\u001b[0m\u001b[0m\n\u001b[0;32m--> 131\u001b[0;31m         \u001b[0;32mreturn\u001b[0m \u001b[0;34m[\u001b[0m\u001b[0mfunc\u001b[0m\u001b[0;34m(\u001b[0m\u001b[0;34m*\u001b[0m\u001b[0margs\u001b[0m\u001b[0;34m,\u001b[0m \u001b[0;34m**\u001b[0m\u001b[0mkwargs\u001b[0m\u001b[0;34m)\u001b[0m \u001b[0;32mfor\u001b[0m \u001b[0mfunc\u001b[0m\u001b[0;34m,\u001b[0m \u001b[0margs\u001b[0m\u001b[0;34m,\u001b[0m \u001b[0mkwargs\u001b[0m \u001b[0;32min\u001b[0m \u001b[0mself\u001b[0m\u001b[0;34m.\u001b[0m\u001b[0mitems\u001b[0m\u001b[0;34m]\u001b[0m\u001b[0;34m\u001b[0m\u001b[0m\n\u001b[0m\u001b[1;32m    132\u001b[0m \u001b[0;34m\u001b[0m\u001b[0m\n\u001b[1;32m    133\u001b[0m     \u001b[0;32mdef\u001b[0m \u001b[0m__len__\u001b[0m\u001b[0;34m(\u001b[0m\u001b[0mself\u001b[0m\u001b[0;34m)\u001b[0m\u001b[0;34m:\u001b[0m\u001b[0;34m\u001b[0m\u001b[0m\n",
      "\u001b[0;32m/opt/conda/lib/python3.6/site-packages/sklearn/externals/joblib/parallel.py\u001b[0m in \u001b[0;36m<listcomp>\u001b[0;34m(.0)\u001b[0m\n\u001b[1;32m    129\u001b[0m \u001b[0;34m\u001b[0m\u001b[0m\n\u001b[1;32m    130\u001b[0m     \u001b[0;32mdef\u001b[0m \u001b[0m__call__\u001b[0m\u001b[0;34m(\u001b[0m\u001b[0mself\u001b[0m\u001b[0;34m)\u001b[0m\u001b[0;34m:\u001b[0m\u001b[0;34m\u001b[0m\u001b[0m\n\u001b[0;32m--> 131\u001b[0;31m         \u001b[0;32mreturn\u001b[0m \u001b[0;34m[\u001b[0m\u001b[0mfunc\u001b[0m\u001b[0;34m(\u001b[0m\u001b[0;34m*\u001b[0m\u001b[0margs\u001b[0m\u001b[0;34m,\u001b[0m \u001b[0;34m**\u001b[0m\u001b[0mkwargs\u001b[0m\u001b[0;34m)\u001b[0m \u001b[0;32mfor\u001b[0m \u001b[0mfunc\u001b[0m\u001b[0;34m,\u001b[0m \u001b[0margs\u001b[0m\u001b[0;34m,\u001b[0m \u001b[0mkwargs\u001b[0m \u001b[0;32min\u001b[0m \u001b[0mself\u001b[0m\u001b[0;34m.\u001b[0m\u001b[0mitems\u001b[0m\u001b[0;34m]\u001b[0m\u001b[0;34m\u001b[0m\u001b[0m\n\u001b[0m\u001b[1;32m    132\u001b[0m \u001b[0;34m\u001b[0m\u001b[0m\n\u001b[1;32m    133\u001b[0m     \u001b[0;32mdef\u001b[0m \u001b[0m__len__\u001b[0m\u001b[0;34m(\u001b[0m\u001b[0mself\u001b[0m\u001b[0;34m)\u001b[0m\u001b[0;34m:\u001b[0m\u001b[0;34m\u001b[0m\u001b[0m\n",
      "\u001b[0;32m/opt/conda/lib/python3.6/site-packages/sklearn/model_selection/_validation.py\u001b[0m in \u001b[0;36m_fit_and_score\u001b[0;34m(estimator, X, y, scorer, train, test, verbose, parameters, fit_params, return_train_score, return_parameters, return_n_test_samples, return_times, error_score)\u001b[0m\n\u001b[1;32m    456\u001b[0m             \u001b[0mestimator\u001b[0m\u001b[0;34m.\u001b[0m\u001b[0mfit\u001b[0m\u001b[0;34m(\u001b[0m\u001b[0mX_train\u001b[0m\u001b[0;34m,\u001b[0m \u001b[0;34m**\u001b[0m\u001b[0mfit_params\u001b[0m\u001b[0;34m)\u001b[0m\u001b[0;34m\u001b[0m\u001b[0m\n\u001b[1;32m    457\u001b[0m         \u001b[0;32melse\u001b[0m\u001b[0;34m:\u001b[0m\u001b[0;34m\u001b[0m\u001b[0m\n\u001b[0;32m--> 458\u001b[0;31m             \u001b[0mestimator\u001b[0m\u001b[0;34m.\u001b[0m\u001b[0mfit\u001b[0m\u001b[0;34m(\u001b[0m\u001b[0mX_train\u001b[0m\u001b[0;34m,\u001b[0m \u001b[0my_train\u001b[0m\u001b[0;34m,\u001b[0m \u001b[0;34m**\u001b[0m\u001b[0mfit_params\u001b[0m\u001b[0;34m)\u001b[0m\u001b[0;34m\u001b[0m\u001b[0m\n\u001b[0m\u001b[1;32m    459\u001b[0m \u001b[0;34m\u001b[0m\u001b[0m\n\u001b[1;32m    460\u001b[0m     \u001b[0;32mexcept\u001b[0m \u001b[0mException\u001b[0m \u001b[0;32mas\u001b[0m \u001b[0me\u001b[0m\u001b[0;34m:\u001b[0m\u001b[0;34m\u001b[0m\u001b[0m\n",
      "\u001b[0;32m/opt/conda/lib/python3.6/site-packages/keras/wrappers/scikit_learn.py\u001b[0m in \u001b[0;36mfit\u001b[0;34m(self, x, y, sample_weight, **kwargs)\u001b[0m\n\u001b[1;32m    207\u001b[0m         \u001b[0;32mif\u001b[0m \u001b[0msample_weight\u001b[0m \u001b[0;32mis\u001b[0m \u001b[0;32mnot\u001b[0m \u001b[0;32mNone\u001b[0m\u001b[0;34m:\u001b[0m\u001b[0;34m\u001b[0m\u001b[0m\n\u001b[1;32m    208\u001b[0m             \u001b[0mkwargs\u001b[0m\u001b[0;34m[\u001b[0m\u001b[0;34m'sample_weight'\u001b[0m\u001b[0;34m]\u001b[0m \u001b[0;34m=\u001b[0m \u001b[0msample_weight\u001b[0m\u001b[0;34m\u001b[0m\u001b[0m\n\u001b[0;32m--> 209\u001b[0;31m         \u001b[0;32mreturn\u001b[0m \u001b[0msuper\u001b[0m\u001b[0;34m(\u001b[0m\u001b[0mKerasClassifier\u001b[0m\u001b[0;34m,\u001b[0m \u001b[0mself\u001b[0m\u001b[0;34m)\u001b[0m\u001b[0;34m.\u001b[0m\u001b[0mfit\u001b[0m\u001b[0;34m(\u001b[0m\u001b[0mx\u001b[0m\u001b[0;34m,\u001b[0m \u001b[0my\u001b[0m\u001b[0;34m,\u001b[0m \u001b[0;34m**\u001b[0m\u001b[0mkwargs\u001b[0m\u001b[0;34m)\u001b[0m\u001b[0;34m\u001b[0m\u001b[0m\n\u001b[0m\u001b[1;32m    210\u001b[0m \u001b[0;34m\u001b[0m\u001b[0m\n\u001b[1;32m    211\u001b[0m     \u001b[0;32mdef\u001b[0m \u001b[0mpredict\u001b[0m\u001b[0;34m(\u001b[0m\u001b[0mself\u001b[0m\u001b[0;34m,\u001b[0m \u001b[0mx\u001b[0m\u001b[0;34m,\u001b[0m \u001b[0;34m**\u001b[0m\u001b[0mkwargs\u001b[0m\u001b[0;34m)\u001b[0m\u001b[0;34m:\u001b[0m\u001b[0;34m\u001b[0m\u001b[0m\n",
      "\u001b[0;32m/opt/conda/lib/python3.6/site-packages/keras/wrappers/scikit_learn.py\u001b[0m in \u001b[0;36mfit\u001b[0;34m(self, x, y, **kwargs)\u001b[0m\n\u001b[1;32m    149\u001b[0m         \u001b[0mfit_args\u001b[0m\u001b[0;34m.\u001b[0m\u001b[0mupdate\u001b[0m\u001b[0;34m(\u001b[0m\u001b[0mkwargs\u001b[0m\u001b[0;34m)\u001b[0m\u001b[0;34m\u001b[0m\u001b[0m\n\u001b[1;32m    150\u001b[0m \u001b[0;34m\u001b[0m\u001b[0m\n\u001b[0;32m--> 151\u001b[0;31m         \u001b[0mhistory\u001b[0m \u001b[0;34m=\u001b[0m \u001b[0mself\u001b[0m\u001b[0;34m.\u001b[0m\u001b[0mmodel\u001b[0m\u001b[0;34m.\u001b[0m\u001b[0mfit\u001b[0m\u001b[0;34m(\u001b[0m\u001b[0mx\u001b[0m\u001b[0;34m,\u001b[0m \u001b[0my\u001b[0m\u001b[0;34m,\u001b[0m \u001b[0;34m**\u001b[0m\u001b[0mfit_args\u001b[0m\u001b[0;34m)\u001b[0m\u001b[0;34m\u001b[0m\u001b[0m\n\u001b[0m\u001b[1;32m    152\u001b[0m \u001b[0;34m\u001b[0m\u001b[0m\n\u001b[1;32m    153\u001b[0m         \u001b[0;32mreturn\u001b[0m \u001b[0mhistory\u001b[0m\u001b[0;34m\u001b[0m\u001b[0m\n",
      "\u001b[0;32m/opt/conda/lib/python3.6/site-packages/keras/models.py\u001b[0m in \u001b[0;36mfit\u001b[0;34m(self, x, y, batch_size, epochs, verbose, callbacks, validation_split, validation_data, shuffle, class_weight, sample_weight, initial_epoch, steps_per_epoch, validation_steps, **kwargs)\u001b[0m\n\u001b[1;32m   1000\u001b[0m                               \u001b[0minitial_epoch\u001b[0m\u001b[0;34m=\u001b[0m\u001b[0minitial_epoch\u001b[0m\u001b[0;34m,\u001b[0m\u001b[0;34m\u001b[0m\u001b[0m\n\u001b[1;32m   1001\u001b[0m                               \u001b[0msteps_per_epoch\u001b[0m\u001b[0;34m=\u001b[0m\u001b[0msteps_per_epoch\u001b[0m\u001b[0;34m,\u001b[0m\u001b[0;34m\u001b[0m\u001b[0m\n\u001b[0;32m-> 1002\u001b[0;31m                               validation_steps=validation_steps)\n\u001b[0m\u001b[1;32m   1003\u001b[0m \u001b[0;34m\u001b[0m\u001b[0m\n\u001b[1;32m   1004\u001b[0m     def evaluate(self, x=None, y=None,\n",
      "\u001b[0;32m/opt/conda/lib/python3.6/site-packages/keras/engine/training.py\u001b[0m in \u001b[0;36mfit\u001b[0;34m(self, x, y, batch_size, epochs, verbose, callbacks, validation_split, validation_data, shuffle, class_weight, sample_weight, initial_epoch, steps_per_epoch, validation_steps, **kwargs)\u001b[0m\n\u001b[1;32m   1703\u001b[0m                               \u001b[0minitial_epoch\u001b[0m\u001b[0;34m=\u001b[0m\u001b[0minitial_epoch\u001b[0m\u001b[0;34m,\u001b[0m\u001b[0;34m\u001b[0m\u001b[0m\n\u001b[1;32m   1704\u001b[0m                               \u001b[0msteps_per_epoch\u001b[0m\u001b[0;34m=\u001b[0m\u001b[0msteps_per_epoch\u001b[0m\u001b[0;34m,\u001b[0m\u001b[0;34m\u001b[0m\u001b[0m\n\u001b[0;32m-> 1705\u001b[0;31m                               validation_steps=validation_steps)\n\u001b[0m\u001b[1;32m   1706\u001b[0m \u001b[0;34m\u001b[0m\u001b[0m\n\u001b[1;32m   1707\u001b[0m     def evaluate(self, x=None, y=None,\n",
      "\u001b[0;32m/opt/conda/lib/python3.6/site-packages/keras/engine/training.py\u001b[0m in \u001b[0;36m_fit_loop\u001b[0;34m(self, f, ins, out_labels, batch_size, epochs, verbose, callbacks, val_f, val_ins, shuffle, callback_metrics, initial_epoch, steps_per_epoch, validation_steps)\u001b[0m\n\u001b[1;32m   1234\u001b[0m                         \u001b[0mins_batch\u001b[0m\u001b[0;34m[\u001b[0m\u001b[0mi\u001b[0m\u001b[0;34m]\u001b[0m \u001b[0;34m=\u001b[0m \u001b[0mins_batch\u001b[0m\u001b[0;34m[\u001b[0m\u001b[0mi\u001b[0m\u001b[0;34m]\u001b[0m\u001b[0;34m.\u001b[0m\u001b[0mtoarray\u001b[0m\u001b[0;34m(\u001b[0m\u001b[0;34m)\u001b[0m\u001b[0;34m\u001b[0m\u001b[0m\n\u001b[1;32m   1235\u001b[0m \u001b[0;34m\u001b[0m\u001b[0m\n\u001b[0;32m-> 1236\u001b[0;31m                     \u001b[0mouts\u001b[0m \u001b[0;34m=\u001b[0m \u001b[0mf\u001b[0m\u001b[0;34m(\u001b[0m\u001b[0mins_batch\u001b[0m\u001b[0;34m)\u001b[0m\u001b[0;34m\u001b[0m\u001b[0m\n\u001b[0m\u001b[1;32m   1237\u001b[0m                     \u001b[0;32mif\u001b[0m \u001b[0;32mnot\u001b[0m \u001b[0misinstance\u001b[0m\u001b[0;34m(\u001b[0m\u001b[0mouts\u001b[0m\u001b[0;34m,\u001b[0m \u001b[0mlist\u001b[0m\u001b[0;34m)\u001b[0m\u001b[0;34m:\u001b[0m\u001b[0;34m\u001b[0m\u001b[0m\n\u001b[1;32m   1238\u001b[0m                         \u001b[0mouts\u001b[0m \u001b[0;34m=\u001b[0m \u001b[0;34m[\u001b[0m\u001b[0mouts\u001b[0m\u001b[0;34m]\u001b[0m\u001b[0;34m\u001b[0m\u001b[0m\n",
      "\u001b[0;32m/opt/conda/lib/python3.6/site-packages/keras/backend/tensorflow_backend.py\u001b[0m in \u001b[0;36m__call__\u001b[0;34m(self, inputs)\u001b[0m\n\u001b[1;32m   2480\u001b[0m         \u001b[0msession\u001b[0m \u001b[0;34m=\u001b[0m \u001b[0mget_session\u001b[0m\u001b[0;34m(\u001b[0m\u001b[0;34m)\u001b[0m\u001b[0;34m\u001b[0m\u001b[0m\n\u001b[1;32m   2481\u001b[0m         updated = session.run(fetches=fetches, feed_dict=feed_dict,\n\u001b[0;32m-> 2482\u001b[0;31m                               **self.session_kwargs)\n\u001b[0m\u001b[1;32m   2483\u001b[0m         \u001b[0;32mreturn\u001b[0m \u001b[0mupdated\u001b[0m\u001b[0;34m[\u001b[0m\u001b[0;34m:\u001b[0m\u001b[0mlen\u001b[0m\u001b[0;34m(\u001b[0m\u001b[0mself\u001b[0m\u001b[0;34m.\u001b[0m\u001b[0moutputs\u001b[0m\u001b[0;34m)\u001b[0m\u001b[0;34m]\u001b[0m\u001b[0;34m\u001b[0m\u001b[0m\n\u001b[1;32m   2484\u001b[0m \u001b[0;34m\u001b[0m\u001b[0m\n",
      "\u001b[0;32m/opt/conda/lib/python3.6/site-packages/tensorflow/python/client/session.py\u001b[0m in \u001b[0;36mrun\u001b[0;34m(self, fetches, feed_dict, options, run_metadata)\u001b[0m\n\u001b[1;32m    893\u001b[0m     \u001b[0;32mtry\u001b[0m\u001b[0;34m:\u001b[0m\u001b[0;34m\u001b[0m\u001b[0m\n\u001b[1;32m    894\u001b[0m       result = self._run(None, fetches, feed_dict, options_ptr,\n\u001b[0;32m--> 895\u001b[0;31m                          run_metadata_ptr)\n\u001b[0m\u001b[1;32m    896\u001b[0m       \u001b[0;32mif\u001b[0m \u001b[0mrun_metadata\u001b[0m\u001b[0;34m:\u001b[0m\u001b[0;34m\u001b[0m\u001b[0m\n\u001b[1;32m    897\u001b[0m         \u001b[0mproto_data\u001b[0m \u001b[0;34m=\u001b[0m \u001b[0mtf_session\u001b[0m\u001b[0;34m.\u001b[0m\u001b[0mTF_GetBuffer\u001b[0m\u001b[0;34m(\u001b[0m\u001b[0mrun_metadata_ptr\u001b[0m\u001b[0;34m)\u001b[0m\u001b[0;34m\u001b[0m\u001b[0m\n",
      "\u001b[0;32m/opt/conda/lib/python3.6/site-packages/tensorflow/python/client/session.py\u001b[0m in \u001b[0;36m_run\u001b[0;34m(self, handle, fetches, feed_dict, options, run_metadata)\u001b[0m\n\u001b[1;32m   1126\u001b[0m     \u001b[0;32mif\u001b[0m \u001b[0mfinal_fetches\u001b[0m \u001b[0;32mor\u001b[0m \u001b[0mfinal_targets\u001b[0m \u001b[0;32mor\u001b[0m \u001b[0;34m(\u001b[0m\u001b[0mhandle\u001b[0m \u001b[0;32mand\u001b[0m \u001b[0mfeed_dict_tensor\u001b[0m\u001b[0;34m)\u001b[0m\u001b[0;34m:\u001b[0m\u001b[0;34m\u001b[0m\u001b[0m\n\u001b[1;32m   1127\u001b[0m       results = self._do_run(handle, final_targets, final_fetches,\n\u001b[0;32m-> 1128\u001b[0;31m                              feed_dict_tensor, options, run_metadata)\n\u001b[0m\u001b[1;32m   1129\u001b[0m     \u001b[0;32melse\u001b[0m\u001b[0;34m:\u001b[0m\u001b[0;34m\u001b[0m\u001b[0m\n\u001b[1;32m   1130\u001b[0m       \u001b[0mresults\u001b[0m \u001b[0;34m=\u001b[0m \u001b[0;34m[\u001b[0m\u001b[0;34m]\u001b[0m\u001b[0;34m\u001b[0m\u001b[0m\n",
      "\u001b[0;32m/opt/conda/lib/python3.6/site-packages/tensorflow/python/client/session.py\u001b[0m in \u001b[0;36m_do_run\u001b[0;34m(self, handle, target_list, fetch_list, feed_dict, options, run_metadata)\u001b[0m\n\u001b[1;32m   1342\u001b[0m     \u001b[0;32mif\u001b[0m \u001b[0mhandle\u001b[0m \u001b[0;32mis\u001b[0m \u001b[0;32mNone\u001b[0m\u001b[0;34m:\u001b[0m\u001b[0;34m\u001b[0m\u001b[0m\n\u001b[1;32m   1343\u001b[0m       return self._do_call(_run_fn, self._session, feeds, fetches, targets,\n\u001b[0;32m-> 1344\u001b[0;31m                            options, run_metadata)\n\u001b[0m\u001b[1;32m   1345\u001b[0m     \u001b[0;32melse\u001b[0m\u001b[0;34m:\u001b[0m\u001b[0;34m\u001b[0m\u001b[0m\n\u001b[1;32m   1346\u001b[0m       \u001b[0;32mreturn\u001b[0m \u001b[0mself\u001b[0m\u001b[0;34m.\u001b[0m\u001b[0m_do_call\u001b[0m\u001b[0;34m(\u001b[0m\u001b[0m_prun_fn\u001b[0m\u001b[0;34m,\u001b[0m \u001b[0mself\u001b[0m\u001b[0;34m.\u001b[0m\u001b[0m_session\u001b[0m\u001b[0;34m,\u001b[0m \u001b[0mhandle\u001b[0m\u001b[0;34m,\u001b[0m \u001b[0mfeeds\u001b[0m\u001b[0;34m,\u001b[0m \u001b[0mfetches\u001b[0m\u001b[0;34m)\u001b[0m\u001b[0;34m\u001b[0m\u001b[0m\n",
      "\u001b[0;32m/opt/conda/lib/python3.6/site-packages/tensorflow/python/client/session.py\u001b[0m in \u001b[0;36m_do_call\u001b[0;34m(self, fn, *args)\u001b[0m\n\u001b[1;32m   1348\u001b[0m   \u001b[0;32mdef\u001b[0m \u001b[0m_do_call\u001b[0m\u001b[0;34m(\u001b[0m\u001b[0mself\u001b[0m\u001b[0;34m,\u001b[0m \u001b[0mfn\u001b[0m\u001b[0;34m,\u001b[0m \u001b[0;34m*\u001b[0m\u001b[0margs\u001b[0m\u001b[0;34m)\u001b[0m\u001b[0;34m:\u001b[0m\u001b[0;34m\u001b[0m\u001b[0m\n\u001b[1;32m   1349\u001b[0m     \u001b[0;32mtry\u001b[0m\u001b[0;34m:\u001b[0m\u001b[0;34m\u001b[0m\u001b[0m\n\u001b[0;32m-> 1350\u001b[0;31m       \u001b[0;32mreturn\u001b[0m \u001b[0mfn\u001b[0m\u001b[0;34m(\u001b[0m\u001b[0;34m*\u001b[0m\u001b[0margs\u001b[0m\u001b[0;34m)\u001b[0m\u001b[0;34m\u001b[0m\u001b[0m\n\u001b[0m\u001b[1;32m   1351\u001b[0m     \u001b[0;32mexcept\u001b[0m \u001b[0merrors\u001b[0m\u001b[0;34m.\u001b[0m\u001b[0mOpError\u001b[0m \u001b[0;32mas\u001b[0m \u001b[0me\u001b[0m\u001b[0;34m:\u001b[0m\u001b[0;34m\u001b[0m\u001b[0m\n\u001b[1;32m   1352\u001b[0m       \u001b[0mmessage\u001b[0m \u001b[0;34m=\u001b[0m \u001b[0mcompat\u001b[0m\u001b[0;34m.\u001b[0m\u001b[0mas_text\u001b[0m\u001b[0;34m(\u001b[0m\u001b[0me\u001b[0m\u001b[0;34m.\u001b[0m\u001b[0mmessage\u001b[0m\u001b[0;34m)\u001b[0m\u001b[0;34m\u001b[0m\u001b[0m\n",
      "\u001b[0;32m/opt/conda/lib/python3.6/site-packages/tensorflow/python/client/session.py\u001b[0m in \u001b[0;36m_run_fn\u001b[0;34m(session, feed_dict, fetch_list, target_list, options, run_metadata)\u001b[0m\n\u001b[1;32m   1327\u001b[0m           return tf_session.TF_Run(session, options,\n\u001b[1;32m   1328\u001b[0m                                    \u001b[0mfeed_dict\u001b[0m\u001b[0;34m,\u001b[0m \u001b[0mfetch_list\u001b[0m\u001b[0;34m,\u001b[0m \u001b[0mtarget_list\u001b[0m\u001b[0;34m,\u001b[0m\u001b[0;34m\u001b[0m\u001b[0m\n\u001b[0;32m-> 1329\u001b[0;31m                                    status, run_metadata)\n\u001b[0m\u001b[1;32m   1330\u001b[0m \u001b[0;34m\u001b[0m\u001b[0m\n\u001b[1;32m   1331\u001b[0m     \u001b[0;32mdef\u001b[0m \u001b[0m_prun_fn\u001b[0m\u001b[0;34m(\u001b[0m\u001b[0msession\u001b[0m\u001b[0;34m,\u001b[0m \u001b[0mhandle\u001b[0m\u001b[0;34m,\u001b[0m \u001b[0mfeed_dict\u001b[0m\u001b[0;34m,\u001b[0m \u001b[0mfetch_list\u001b[0m\u001b[0;34m)\u001b[0m\u001b[0;34m:\u001b[0m\u001b[0;34m\u001b[0m\u001b[0m\n",
      "\u001b[0;31mKeyboardInterrupt\u001b[0m: "
     ]
    }
   ],
   "source": [
    "grid_search = grid_search.fit(x_train, y_train)"
   ]
  },
  {
   "cell_type": "code",
   "execution_count": null,
   "metadata": {},
   "outputs": [],
   "source": [
    "best_parameters = grid_search.best_params_"
   ]
  },
  {
   "cell_type": "code",
   "execution_count": null,
   "metadata": {},
   "outputs": [],
   "source": [
    "best_accuracy = grid_search.best_score_"
   ]
  },
  {
   "cell_type": "code",
   "execution_count": null,
   "metadata": {},
   "outputs": [],
   "source": []
  }
 ],
 "metadata": {
  "kernelspec": {
   "display_name": "Python 3",
   "language": "python",
   "name": "python3"
  },
  "language_info": {
   "codemirror_mode": {
    "name": "ipython",
    "version": 3
   },
   "file_extension": ".py",
   "mimetype": "text/x-python",
   "name": "python",
   "nbconvert_exporter": "python",
   "pygments_lexer": "ipython3",
   "version": "3.6.3"
  }
 },
 "nbformat": 4,
 "nbformat_minor": 2
}
